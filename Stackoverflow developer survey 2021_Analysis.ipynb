{
 "cells": [
  {
   "cell_type": "markdown",
   "id": "5cf4cece",
   "metadata": {},
   "source": [
    "# 1. Business Understanding\n",
    "-------------------\n",
    "In this notebook we will analyze participants identifying as a **'Data Scientist or Machine Learning specialist'** for data-driven findings about this role . The results of \"Stack Overflow 2021 Developer survey\" are used for this analysis.\n",
    "\n",
    "We will analyze the following questions:\n",
    "\n",
    "- How to enter the field as a DS/ML?\n",
    "- Are DS/ ML roles still popular in small companies?\n",
    "- Which programming languages and cloud platforms are DS / ML specialists using most commonly nowadays?\n",
    "- How are "
   ]
  },
  {
   "cell_type": "markdown",
   "id": "ad12c2fe",
   "metadata": {},
   "source": [
    "# 2. General Data Understanding\n",
    "-------------------\n",
    "Before conducting analysis, we first need to understand the size and structure of our dataset and define cleaning steps."
   ]
  },
  {
   "cell_type": "markdown",
   "id": "75b16156",
   "metadata": {},
   "source": [
    "### Load libraries"
   ]
  },
  {
   "cell_type": "code",
   "execution_count": 1,
   "id": "dcf6600e",
   "metadata": {},
   "outputs": [],
   "source": [
    "import numpy as np\n",
    "import pandas as pd\n",
    "import matplotlib.pyplot as plt\n",
    "import seaborn as sns\n",
    "import html2text\n",
    "from mlxtend.preprocessing import TransactionEncoder\n",
    "from mlxtend.frequent_patterns import apriori, association_rules"
   ]
  },
  {
   "cell_type": "code",
   "execution_count": 2,
   "id": "862c35ec",
   "metadata": {},
   "outputs": [],
   "source": [
    "pd.options.display.max_colwidth = 80"
   ]
  },
  {
   "cell_type": "markdown",
   "id": "3a8d4284",
   "metadata": {},
   "source": [
    "### Define helper functions"
   ]
  },
  {
   "cell_type": "code",
   "execution_count": 3,
   "id": "6b149d43",
   "metadata": {},
   "outputs": [],
   "source": [
    "def col_description(df, col_names):\n",
    "    \"\"\"Print question description and id for specified column name from schema dataframe\n",
    "    \n",
    "    Keyword arguments:\n",
    "        df -- pandas dataframe of Stack Overflow schema\n",
    "        col_name (list) --  A list of column in schema dataframe\n",
    "    \"\"\"\n",
    "    for col_name in col_names:\n",
    "        try:\n",
    "            desc = df[df['qname'] == col_name]['question'].values[0]\n",
    "            desc = html2text.html2text(desc).rstrip('\\n')\n",
    "            qid = df[df['qname'] == col_name]['qid'].values[0]\n",
    "            print(f\"Question Name: {col_name}\", \"->\", \"Question ID: \", f\"{qid}\")\n",
    "            print(f\"\\nDescription: {desc}\")\n",
    "        except Exception:\n",
    "            print(f\"Question '{col_name}' doesn't exist in the schema\")\n",
    "        print('-'* 100)\n",
    "        \n",
    "def check_null(df):\n",
    "    \"\"\"Check number of null records and percentage of each column in survey dataframe\n",
    "    \n",
    "    Keyword arguments:\n",
    "        df -- Pandas dataframe\n",
    "    Return\n",
    "        Dataframe with null information\n",
    "    \"\"\"\n",
    "    # Check null values by column\n",
    "    null_df = df.isnull().sum().reset_index()\n",
    "    null_df.columns = ['column', 'null_count']\n",
    "    # Get null percentage\n",
    "    null_df['null_perc'] = null_df['null_count']/survey.shape[0]\n",
    "    # Sort results in descending order\n",
    "    null_df = null_df.sort_values(by='null_perc', ascending=False)\n",
    "    return null_df\n",
    "\n",
    "def ma_distinct_values(df, column):\n",
    "    \"\"\"Print out distinct values of multiple choice questions. If the result is nan value, the value is 'No Answer'.\n",
    "    \n",
    "    Keyword arguments:\n",
    "        df -- Pandas dataframe\n",
    "        column (str) -- Name of column to be assessed\n",
    "    \"\"\"\n",
    "    results = df[column]\n",
    "    distinct_values = set()\n",
    "    for result in results:\n",
    "        if str(result)=='nan':\n",
    "            values = ['No Answer']\n",
    "        else:\n",
    "            values = result.split(';')\n",
    "        for value in values:\n",
    "            distinct_values.add(value)\n",
    "    # Convert to list\n",
    "    distinct_values = list(distinct_values)\n",
    "    print(distinct_values)\n",
    "    \n",
    "def sa_values_percentage(df, column, top=0, title='', color='pastel', plot=True):\n",
    "    '''Calculate and visualize percentage of values of SINGLE ANSWER column. By default, result displays all values.\n",
    "    \n",
    "    Keyword arguments:\n",
    "        df -- Pandas dataframe\n",
    "        column (str) -- Name of column to be assessed\n",
    "        top (int) -- The number of results to be displayed. By default, set to 0\n",
    "        title (str) -- Plot title\n",
    "        color (str) -- palette color for visualization\n",
    "        plot (boolean) - providing whether or not you want a plot. If False, the function returns a cleaned dataframe.\n",
    "    '''\n",
    "    df_perc = df[column].value_counts(normalize=True)*100\n",
    "    # By default, show all values\n",
    "    if top == 0:\n",
    "        pass\n",
    "    else:\n",
    "        df_perc = df_perc.iloc[:top]\n",
    "    \n",
    "    # If plot=True, visualize the results without returning the dataframe\n",
    "    if plot:\n",
    "        # Visualize\n",
    "        plt.figure(figsize=(12, 8))\n",
    "        sns.barplot(x=df_perc.values, y=df_perc.index, palette=color)\n",
    "        plt.xlabel(\"Percentage\")\n",
    "        plt.tight_layout()\n",
    "        if title == '':\n",
    "            plt.title(column)\n",
    "        else:\n",
    "            plt.title(title)\n",
    "        plt.show()\n",
    "    else:\n",
    "        return df_perc\n",
    "        \n",
    "def ma_values_percentage(df, column, top=0, title='', sep=';', color='pastel', plot=True):\n",
    "    '''Calculate and visualize percentage of values of MULTIPLE ANSWER column. By default, result displays all values.\n",
    "    \n",
    "    Keyword arguments:\n",
    "        df -- Pandas dataframe\n",
    "        column (str) -- Name of column to be assessed\n",
    "        top (int) -- The number of results to be displayed. By default, set to 0.\n",
    "        sep (str) -- string separator pattern\n",
    "        color (str) -- palette color for visualization\n",
    "        plot (boolean) - providing whether or not you want a plot. If False, the function returns a cleaned dataframe.\n",
    "    '''\n",
    "    # Create a dummy dataframe\n",
    "    dummy = df[column].str.get_dummies(sep=';')\n",
    "    # Get percentage and sort values\n",
    "    df_perc = dummy.sum()/df.shape[0]*100\n",
    "    df_perc = df_perc.sort_values(ascending=False)\n",
    "    # By default, show all values\n",
    "    if top == 0:\n",
    "        pass\n",
    "    else:\n",
    "        df_perc = df_perc.iloc[:top]\n",
    "    \n",
    "    # If plot=True, visualize the results without returning the dataframe\n",
    "    if plot:\n",
    "        # Visualize\n",
    "        plt.figure(figsize=(12, 8))\n",
    "        sns.barplot(x=df_perc.values, y=df_perc.index, palette=color)\n",
    "        plt.xlabel(\"Percentage\")\n",
    "        plt.tight_layout()\n",
    "        if title == '':\n",
    "            plt.title(column)\n",
    "        else:\n",
    "            plt.title(title)\n",
    "        plt.show()\n",
    "    else:\n",
    "        return df_perc\n",
    "    \n",
    "def compare_groups(column, group1, group1_label, group2, group2_label):\n",
    "    '''Return a combined dataframe that shows differences in percentage between 2 groups\n",
    "    \n",
    "    Keyword arguments:\n",
    "        column (str) -- field name used for comparison\n",
    "        group1 (df) --  value percentage dataframe of the first group\n",
    "        group1_label (str) -- label used for the first group\n",
    "        group2 (df) -- value percentage dataframe of the second group\n",
    "        group2_label (str) -- label used for the second group\n",
    "    '''\n",
    "    group1.columns = [column, group1_label]\n",
    "    group2.columns = [column, group2_label]\n",
    "    # Differences\n",
    "    compare = pd.merge(group1, group2, on=column, how='left')\n",
    "    compare['Diff'] = compare[group1_label] - compare[group2_label]\n",
    "    compare = compare.style.bar(subset=['Diff'], align='mid', color=['#d65f5f', '#5fba7d'])\n",
    "    return compare\n",
    "\n",
    "def summarize_org_size(df):\n",
    "    '''Return a dataframe that shows summary about organization size in a defined order.\n",
    "    \n",
    "    Keyword arguments:\n",
    "        df -- a dataframe that has column 'OrgSize'\n",
    "    '''\n",
    "    org_size_dict = {\n",
    "        'Just me - I am a freelancer, sole proprietor, etc.': 0,\n",
    "        '2 to 9 employees': 0,\n",
    "        '10 to 19 employees': 0,\n",
    "        '20 to 99 employees': 0,\n",
    "        '100 to 499 employees': 0,\n",
    "        '500 to 999 employees': 0,\n",
    "        '1,000 to 4,999 employees': 0,\n",
    "        '5,000 to 9,999 employees': 0,\n",
    "        '10,000 or more employees': 0,\n",
    "        'I don’t know': 0\n",
    "        }\n",
    "    \n",
    "    org_size = df['OrgSize'].value_counts()\n",
    "    # If matched, then update the number\n",
    "    for index, value in org_size.iteritems():\n",
    "        if index in org_size_dict.keys():\n",
    "            org_size_dict[index] = value\n",
    "    # Convert to dataframe\n",
    "    org_size_df = pd.DataFrame.from_dict(org_size_dict, orient='index').reset_index()\n",
    "    org_size_df.columns = ['OrgSize', 'count']\n",
    "    org_size_df['percentage'] = org_size_df['count']/org_size_df['count'].sum()*100\n",
    "    return org_size_df\n",
    "\n",
    "def ds_org_size(df):\n",
    "    '''Return a dataframe that shows percentage of DS/AI Specialists for each Organization Size in a defined order.\n",
    "    \n",
    "    Keyword arguments:\n",
    "        df -- a dataframe that has column 'OrgSize'\n",
    "    '''\n",
    "    org_size_dict =  {\n",
    "        '2 to 9 employees': 0,\n",
    "        '10 to 19 employees': 0,\n",
    "        '20 to 99 employees': 0,\n",
    "        '100 to 499 employees': 0,\n",
    "        '500 to 999 employees': 0,\n",
    "        '1,000 to 4,999 employees': 0,\n",
    "        '5,000 to 9,999 employees': 0,\n",
    "        '10,000 or more employees': 0\n",
    "        }\n",
    "    \n",
    "    # If match, update the dict\n",
    "    for value in df['OrgSize'].unique():\n",
    "        if str(value) in [\"nan\", \"I don’t know\", \"Just me - I am a freelancer, sole proprietor, etc.\"]:\n",
    "            continue\n",
    "        else:\n",
    "            sub_df = df[df['OrgSize']==value]\n",
    "            dev_perc = ma_values_percentage(sub_df, 'DevType', plot=False)\n",
    "            ds_perc = dev_perc[dev_perc.index=='Data scientist or machine learning specialist'].values[0]\n",
    "            if value in org_size_dict.keys():\n",
    "                org_size_dict[value] = ds_perc\n",
    "    # Convert to dataframe\n",
    "    ds_by_orgsize = pd.DataFrame.from_dict(org_size_dict, orient='index').reset_index()\n",
    "    ds_by_orgsize.columns = ['OrgSize', 'DS/ML Percentage']\n",
    "    return ds_by_orgsize\n",
    "\n",
    "def get_association_rules(df, column, sep=';', support_count=500, metric='lift', min_threshold=5):\n",
    "    # Split a Multiple-answered column into many columns\n",
    "    split_df = df[column].str.split(pat=';', expand=True)\n",
    "    # Append results\n",
    "    records = []\n",
    "    for i in range(0, split_df.shape[0]):\n",
    "        records.append([str(split_df.values[i, j]) for j in range(0, split_df.shape[1]) if str(split_df.values[i, j]) != 'None'])\n",
    "    # TransactionEncoder\n",
    "    te = TransactionEncoder()\n",
    "    te_ary = te.fit(records).transform(records)\n",
    "    te_df = pd.DataFrame(te_ary, columns=te.columns_)\n",
    "    # Define min support\n",
    "    min_support = support_count/len(te_df)\n",
    "    # Create frequent itemsets\n",
    "    frequent_itemsets = apriori(te_df, min_support=min_support, use_colnames=True) \n",
    "    # Get rules\n",
    "    rules = association_rules(frequent_itemsets, metric=metric, min_threshold=min_threshold)\n",
    "    rules = rules.sort_values(by=metric, ascending=False)\n",
    "    return rules"
   ]
  },
  {
   "cell_type": "markdown",
   "id": "6b0b22c4",
   "metadata": {},
   "source": [
    "### Load dataset"
   ]
  },
  {
   "cell_type": "code",
   "execution_count": 4,
   "id": "4eaacf1d",
   "metadata": {},
   "outputs": [],
   "source": [
    "survey = pd.read_csv('data/survey_results_public.csv')\n",
    "survey_schema = pd.read_csv('data/survey_results_schema.csv')"
   ]
  },
  {
   "cell_type": "markdown",
   "id": "b9dd6bfe",
   "metadata": {},
   "source": [
    "### Get description of interested columns"
   ]
  },
  {
   "cell_type": "code",
   "execution_count": 5,
   "id": "af7e6c42",
   "metadata": {},
   "outputs": [],
   "source": [
    "col_of_interest = ['Age1stCode', 'LearnCode', 'DevType', 'OrgSize', 'Language', 'Platform']"
   ]
  },
  {
   "cell_type": "code",
   "execution_count": 6,
   "id": "601c522a",
   "metadata": {},
   "outputs": [
    {
     "name": "stdout",
     "output_type": "stream",
     "text": [
      "Question Name: Age1stCode -> Question ID:  QID149\n",
      "\n",
      "Description: At what age did you write your first line of code or program? (e.g., webpage,\n",
      "Hello World, Scratch project)\n",
      "----------------------------------------------------------------------------------------------------\n",
      "Question Name: LearnCode -> Question ID:  QID276\n",
      "\n",
      "Description: How did you learn to code? Select all that apply.\n",
      "----------------------------------------------------------------------------------------------------\n",
      "Question Name: DevType -> Question ID:  QID31\n",
      "\n",
      "Description: Which of the following describes your current job? Please select all that\n",
      "apply.\n",
      "----------------------------------------------------------------------------------------------------\n",
      "Question Name: OrgSize -> Question ID:  QID29\n",
      "\n",
      "Description: Approximately how many people are employed by the company or organization you\n",
      "currently work for?\n",
      "----------------------------------------------------------------------------------------------------\n",
      "Question Name: Language -> Question ID:  QID233\n",
      "\n",
      "Description: Which **programming, scripting, and markup languages** have you done extensive\n",
      "development work in over the past year, and which do you want to work in over\n",
      "the next year? (If you both worked with the language and want to continue to\n",
      "do so, please check both boxes in that row.)\n",
      "----------------------------------------------------------------------------------------------------\n",
      "Question Name: Platform -> Question ID:  QID263\n",
      "\n",
      "Description: Which **cloud platforms** have you done extensive development work in over the\n",
      "past year, and which do you want to work in over the next year? (If you both\n",
      "worked with the platform and want to continue to do so, please check both\n",
      "boxes in that row.)\n",
      "----------------------------------------------------------------------------------------------------\n"
     ]
    }
   ],
   "source": [
    "col_description(survey_schema, col_of_interest)"
   ]
  },
  {
   "cell_type": "markdown",
   "id": "2c3be7c4",
   "metadata": {},
   "source": [
    "### Quick glance of dataset"
   ]
  },
  {
   "cell_type": "code",
   "execution_count": 7,
   "id": "6e0b8ecd",
   "metadata": {},
   "outputs": [
    {
     "name": "stdout",
     "output_type": "stream",
     "text": [
      "<class 'pandas.core.frame.DataFrame'>\n",
      "RangeIndex: 83439 entries, 0 to 83438\n",
      "Data columns (total 48 columns):\n",
      " #   Column                        Non-Null Count  Dtype  \n",
      "---  ------                        --------------  -----  \n",
      " 0   ResponseId                    83439 non-null  int64  \n",
      " 1   MainBranch                    83439 non-null  object \n",
      " 2   Employment                    83323 non-null  object \n",
      " 3   Country                       83439 non-null  object \n",
      " 4   US_State                      14920 non-null  object \n",
      " 5   UK_Country                    4418 non-null   object \n",
      " 6   EdLevel                       83126 non-null  object \n",
      " 7   Age1stCode                    83243 non-null  object \n",
      " 8   LearnCode                     82963 non-null  object \n",
      " 9   YearsCode                     81641 non-null  object \n",
      " 10  YearsCodePro                  61216 non-null  object \n",
      " 11  DevType                       66484 non-null  object \n",
      " 12  OrgSize                       60726 non-null  object \n",
      " 13  Currency                      61080 non-null  object \n",
      " 14  CompTotal                     47183 non-null  float64\n",
      " 15  CompFreq                      52150 non-null  object \n",
      " 16  LanguageHaveWorkedWith        82357 non-null  object \n",
      " 17  LanguageWantToWorkWith        76821 non-null  object \n",
      " 18  DatabaseHaveWorkedWith        69546 non-null  object \n",
      " 19  DatabaseWantToWorkWith        58299 non-null  object \n",
      " 20  PlatformHaveWorkedWith        52135 non-null  object \n",
      " 21  PlatformWantToWorkWith        41619 non-null  object \n",
      " 22  WebframeHaveWorkedWith        61707 non-null  object \n",
      " 23  WebframeWantToWorkWith        52095 non-null  object \n",
      " 24  MiscTechHaveWorkedWith        47055 non-null  object \n",
      " 25  MiscTechWantToWorkWith        38021 non-null  object \n",
      " 26  ToolsTechHaveWorkedWith       72537 non-null  object \n",
      " 27  ToolsTechWantToWorkWith       65480 non-null  object \n",
      " 28  NEWCollabToolsHaveWorkedWith  81234 non-null  object \n",
      " 29  NEWCollabToolsWantToWorkWith  73022 non-null  object \n",
      " 30  OpSys                         83294 non-null  object \n",
      " 31  NEWStuck                      83052 non-null  object \n",
      " 32  NEWSOSites                    83171 non-null  object \n",
      " 33  SOVisitFreq                   82413 non-null  object \n",
      " 34  SOAccount                     82525 non-null  object \n",
      " 35  SOPartFreq                    67553 non-null  object \n",
      " 36  SOComm                        82319 non-null  object \n",
      " 37  NEWOtherComms                 82828 non-null  object \n",
      " 38  Age                           82407 non-null  object \n",
      " 39  Gender                        82286 non-null  object \n",
      " 40  Trans                         80678 non-null  object \n",
      " 41  Sexuality                     73366 non-null  object \n",
      " 42  Ethnicity                     79464 non-null  object \n",
      " 43  Accessibility                 77603 non-null  object \n",
      " 44  MentalHealth                  76920 non-null  object \n",
      " 45  SurveyLength                  81711 non-null  object \n",
      " 46  SurveyEase                    81948 non-null  object \n",
      " 47  ConvertedCompYearly           46844 non-null  float64\n",
      "dtypes: float64(2), int64(1), object(45)\n",
      "memory usage: 30.6+ MB\n"
     ]
    }
   ],
   "source": [
    "# General info of dataset\n",
    "survey.info()"
   ]
  },
  {
   "cell_type": "code",
   "execution_count": 8,
   "id": "73791a57",
   "metadata": {},
   "outputs": [
    {
     "data": {
      "text/html": [
       "<div>\n",
       "<style scoped>\n",
       "    .dataframe tbody tr th:only-of-type {\n",
       "        vertical-align: middle;\n",
       "    }\n",
       "\n",
       "    .dataframe tbody tr th {\n",
       "        vertical-align: top;\n",
       "    }\n",
       "\n",
       "    .dataframe thead th {\n",
       "        text-align: right;\n",
       "    }\n",
       "</style>\n",
       "<table border=\"1\" class=\"dataframe\">\n",
       "  <thead>\n",
       "    <tr style=\"text-align: right;\">\n",
       "      <th></th>\n",
       "      <th>ResponseId</th>\n",
       "      <th>MainBranch</th>\n",
       "      <th>Employment</th>\n",
       "      <th>Country</th>\n",
       "      <th>US_State</th>\n",
       "      <th>UK_Country</th>\n",
       "      <th>EdLevel</th>\n",
       "      <th>Age1stCode</th>\n",
       "      <th>LearnCode</th>\n",
       "      <th>YearsCode</th>\n",
       "      <th>...</th>\n",
       "      <th>Age</th>\n",
       "      <th>Gender</th>\n",
       "      <th>Trans</th>\n",
       "      <th>Sexuality</th>\n",
       "      <th>Ethnicity</th>\n",
       "      <th>Accessibility</th>\n",
       "      <th>MentalHealth</th>\n",
       "      <th>SurveyLength</th>\n",
       "      <th>SurveyEase</th>\n",
       "      <th>ConvertedCompYearly</th>\n",
       "    </tr>\n",
       "  </thead>\n",
       "  <tbody>\n",
       "    <tr>\n",
       "      <th>0</th>\n",
       "      <td>1</td>\n",
       "      <td>I am a developer by profession</td>\n",
       "      <td>Independent contractor, freelancer, or self-employed</td>\n",
       "      <td>Slovakia</td>\n",
       "      <td>NaN</td>\n",
       "      <td>NaN</td>\n",
       "      <td>Secondary school (e.g. American high school, German Realschule or Gymnasium,...</td>\n",
       "      <td>18 - 24 years</td>\n",
       "      <td>Coding Bootcamp;Other online resources (ex: videos, blogs, etc)</td>\n",
       "      <td>NaN</td>\n",
       "      <td>...</td>\n",
       "      <td>25-34 years old</td>\n",
       "      <td>Man</td>\n",
       "      <td>No</td>\n",
       "      <td>Straight / Heterosexual</td>\n",
       "      <td>White or of European descent</td>\n",
       "      <td>None of the above</td>\n",
       "      <td>None of the above</td>\n",
       "      <td>Appropriate in length</td>\n",
       "      <td>Easy</td>\n",
       "      <td>62268.0</td>\n",
       "    </tr>\n",
       "    <tr>\n",
       "      <th>1</th>\n",
       "      <td>2</td>\n",
       "      <td>I am a student who is learning to code</td>\n",
       "      <td>Student, full-time</td>\n",
       "      <td>Netherlands</td>\n",
       "      <td>NaN</td>\n",
       "      <td>NaN</td>\n",
       "      <td>Bachelor’s degree (B.A., B.S., B.Eng., etc.)</td>\n",
       "      <td>11 - 17 years</td>\n",
       "      <td>Other online resources (ex: videos, blogs, etc);School</td>\n",
       "      <td>7</td>\n",
       "      <td>...</td>\n",
       "      <td>18-24 years old</td>\n",
       "      <td>Man</td>\n",
       "      <td>No</td>\n",
       "      <td>Straight / Heterosexual</td>\n",
       "      <td>White or of European descent</td>\n",
       "      <td>None of the above</td>\n",
       "      <td>None of the above</td>\n",
       "      <td>Appropriate in length</td>\n",
       "      <td>Easy</td>\n",
       "      <td>NaN</td>\n",
       "    </tr>\n",
       "    <tr>\n",
       "      <th>2</th>\n",
       "      <td>3</td>\n",
       "      <td>I am not primarily a developer, but I write code sometimes as part of my work</td>\n",
       "      <td>Student, full-time</td>\n",
       "      <td>Russian Federation</td>\n",
       "      <td>NaN</td>\n",
       "      <td>NaN</td>\n",
       "      <td>Bachelor’s degree (B.A., B.S., B.Eng., etc.)</td>\n",
       "      <td>11 - 17 years</td>\n",
       "      <td>Other online resources (ex: videos, blogs, etc);Online Forum</td>\n",
       "      <td>NaN</td>\n",
       "      <td>...</td>\n",
       "      <td>18-24 years old</td>\n",
       "      <td>Man</td>\n",
       "      <td>No</td>\n",
       "      <td>Prefer not to say</td>\n",
       "      <td>Prefer not to say</td>\n",
       "      <td>None of the above</td>\n",
       "      <td>None of the above</td>\n",
       "      <td>Appropriate in length</td>\n",
       "      <td>Easy</td>\n",
       "      <td>NaN</td>\n",
       "    </tr>\n",
       "    <tr>\n",
       "      <th>3</th>\n",
       "      <td>4</td>\n",
       "      <td>I am a developer by profession</td>\n",
       "      <td>Employed full-time</td>\n",
       "      <td>Austria</td>\n",
       "      <td>NaN</td>\n",
       "      <td>NaN</td>\n",
       "      <td>Master’s degree (M.A., M.S., M.Eng., MBA, etc.)</td>\n",
       "      <td>11 - 17 years</td>\n",
       "      <td>NaN</td>\n",
       "      <td>NaN</td>\n",
       "      <td>...</td>\n",
       "      <td>35-44 years old</td>\n",
       "      <td>Man</td>\n",
       "      <td>No</td>\n",
       "      <td>Straight / Heterosexual</td>\n",
       "      <td>White or of European descent</td>\n",
       "      <td>I am deaf / hard of hearing</td>\n",
       "      <td>NaN</td>\n",
       "      <td>Appropriate in length</td>\n",
       "      <td>Neither easy nor difficult</td>\n",
       "      <td>NaN</td>\n",
       "    </tr>\n",
       "    <tr>\n",
       "      <th>4</th>\n",
       "      <td>5</td>\n",
       "      <td>I am a developer by profession</td>\n",
       "      <td>Independent contractor, freelancer, or self-employed</td>\n",
       "      <td>United Kingdom of Great Britain and Northern Ireland</td>\n",
       "      <td>NaN</td>\n",
       "      <td>England</td>\n",
       "      <td>Master’s degree (M.A., M.S., M.Eng., MBA, etc.)</td>\n",
       "      <td>5 - 10 years</td>\n",
       "      <td>Friend or family member</td>\n",
       "      <td>17</td>\n",
       "      <td>...</td>\n",
       "      <td>25-34 years old</td>\n",
       "      <td>Man</td>\n",
       "      <td>No</td>\n",
       "      <td>NaN</td>\n",
       "      <td>White or of European descent</td>\n",
       "      <td>None of the above</td>\n",
       "      <td>NaN</td>\n",
       "      <td>Appropriate in length</td>\n",
       "      <td>Easy</td>\n",
       "      <td>NaN</td>\n",
       "    </tr>\n",
       "  </tbody>\n",
       "</table>\n",
       "<p>5 rows × 48 columns</p>\n",
       "</div>"
      ],
      "text/plain": [
       "   ResponseId  \\\n",
       "0           1   \n",
       "1           2   \n",
       "2           3   \n",
       "3           4   \n",
       "4           5   \n",
       "\n",
       "                                                                      MainBranch  \\\n",
       "0                                                 I am a developer by profession   \n",
       "1                                         I am a student who is learning to code   \n",
       "2  I am not primarily a developer, but I write code sometimes as part of my work   \n",
       "3                                                 I am a developer by profession   \n",
       "4                                                 I am a developer by profession   \n",
       "\n",
       "                                             Employment  \\\n",
       "0  Independent contractor, freelancer, or self-employed   \n",
       "1                                    Student, full-time   \n",
       "2                                    Student, full-time   \n",
       "3                                    Employed full-time   \n",
       "4  Independent contractor, freelancer, or self-employed   \n",
       "\n",
       "                                                Country US_State UK_Country  \\\n",
       "0                                              Slovakia      NaN        NaN   \n",
       "1                                           Netherlands      NaN        NaN   \n",
       "2                                    Russian Federation      NaN        NaN   \n",
       "3                                               Austria      NaN        NaN   \n",
       "4  United Kingdom of Great Britain and Northern Ireland      NaN    England   \n",
       "\n",
       "                                                                           EdLevel  \\\n",
       "0  Secondary school (e.g. American high school, German Realschule or Gymnasium,...   \n",
       "1                                     Bachelor’s degree (B.A., B.S., B.Eng., etc.)   \n",
       "2                                     Bachelor’s degree (B.A., B.S., B.Eng., etc.)   \n",
       "3                                  Master’s degree (M.A., M.S., M.Eng., MBA, etc.)   \n",
       "4                                  Master’s degree (M.A., M.S., M.Eng., MBA, etc.)   \n",
       "\n",
       "      Age1stCode  \\\n",
       "0  18 - 24 years   \n",
       "1  11 - 17 years   \n",
       "2  11 - 17 years   \n",
       "3  11 - 17 years   \n",
       "4   5 - 10 years   \n",
       "\n",
       "                                                         LearnCode YearsCode  \\\n",
       "0  Coding Bootcamp;Other online resources (ex: videos, blogs, etc)       NaN   \n",
       "1           Other online resources (ex: videos, blogs, etc);School         7   \n",
       "2     Other online resources (ex: videos, blogs, etc);Online Forum       NaN   \n",
       "3                                                              NaN       NaN   \n",
       "4                                          Friend or family member        17   \n",
       "\n",
       "   ...              Age Gender Trans                Sexuality  \\\n",
       "0  ...  25-34 years old    Man    No  Straight / Heterosexual   \n",
       "1  ...  18-24 years old    Man    No  Straight / Heterosexual   \n",
       "2  ...  18-24 years old    Man    No        Prefer not to say   \n",
       "3  ...  35-44 years old    Man    No  Straight / Heterosexual   \n",
       "4  ...  25-34 years old    Man    No                      NaN   \n",
       "\n",
       "                      Ethnicity                Accessibility  \\\n",
       "0  White or of European descent            None of the above   \n",
       "1  White or of European descent            None of the above   \n",
       "2             Prefer not to say            None of the above   \n",
       "3  White or of European descent  I am deaf / hard of hearing   \n",
       "4  White or of European descent            None of the above   \n",
       "\n",
       "        MentalHealth           SurveyLength                  SurveyEase  \\\n",
       "0  None of the above  Appropriate in length                        Easy   \n",
       "1  None of the above  Appropriate in length                        Easy   \n",
       "2  None of the above  Appropriate in length                        Easy   \n",
       "3                NaN  Appropriate in length  Neither easy nor difficult   \n",
       "4                NaN  Appropriate in length                        Easy   \n",
       "\n",
       "  ConvertedCompYearly  \n",
       "0             62268.0  \n",
       "1                 NaN  \n",
       "2                 NaN  \n",
       "3                 NaN  \n",
       "4                 NaN  \n",
       "\n",
       "[5 rows x 48 columns]"
      ]
     },
     "execution_count": 8,
     "metadata": {},
     "output_type": "execute_result"
    }
   ],
   "source": [
    "# Check several first rows\n",
    "survey.head()"
   ]
  },
  {
   "cell_type": "code",
   "execution_count": 9,
   "id": "919b4eac",
   "metadata": {},
   "outputs": [
    {
     "data": {
      "text/html": [
       "<div>\n",
       "<style scoped>\n",
       "    .dataframe tbody tr th:only-of-type {\n",
       "        vertical-align: middle;\n",
       "    }\n",
       "\n",
       "    .dataframe tbody tr th {\n",
       "        vertical-align: top;\n",
       "    }\n",
       "\n",
       "    .dataframe thead th {\n",
       "        text-align: right;\n",
       "    }\n",
       "</style>\n",
       "<table border=\"1\" class=\"dataframe\">\n",
       "  <thead>\n",
       "    <tr style=\"text-align: right;\">\n",
       "      <th></th>\n",
       "      <th>ResponseId</th>\n",
       "      <th>MainBranch</th>\n",
       "      <th>Employment</th>\n",
       "      <th>Country</th>\n",
       "      <th>US_State</th>\n",
       "      <th>UK_Country</th>\n",
       "      <th>EdLevel</th>\n",
       "      <th>Age1stCode</th>\n",
       "      <th>LearnCode</th>\n",
       "      <th>YearsCode</th>\n",
       "      <th>...</th>\n",
       "      <th>Age</th>\n",
       "      <th>Gender</th>\n",
       "      <th>Trans</th>\n",
       "      <th>Sexuality</th>\n",
       "      <th>Ethnicity</th>\n",
       "      <th>Accessibility</th>\n",
       "      <th>MentalHealth</th>\n",
       "      <th>SurveyLength</th>\n",
       "      <th>SurveyEase</th>\n",
       "      <th>ConvertedCompYearly</th>\n",
       "    </tr>\n",
       "  </thead>\n",
       "  <tbody>\n",
       "    <tr>\n",
       "      <th>83434</th>\n",
       "      <td>83435</td>\n",
       "      <td>I am a developer by profession</td>\n",
       "      <td>Employed full-time</td>\n",
       "      <td>United States of America</td>\n",
       "      <td>Texas</td>\n",
       "      <td>NaN</td>\n",
       "      <td>Bachelor’s degree (B.A., B.S., B.Eng., etc.)</td>\n",
       "      <td>11 - 17 years</td>\n",
       "      <td>Other online resources (ex: videos, blogs, etc);School;Online Forum</td>\n",
       "      <td>6</td>\n",
       "      <td>...</td>\n",
       "      <td>25-34 years old</td>\n",
       "      <td>Man</td>\n",
       "      <td>No</td>\n",
       "      <td>Straight / Heterosexual</td>\n",
       "      <td>White or of European descent</td>\n",
       "      <td>None of the above</td>\n",
       "      <td>I have a concentration and/or memory disorder (e.g. ADHD)</td>\n",
       "      <td>Appropriate in length</td>\n",
       "      <td>Easy</td>\n",
       "      <td>160500.0</td>\n",
       "    </tr>\n",
       "    <tr>\n",
       "      <th>83435</th>\n",
       "      <td>83436</td>\n",
       "      <td>I am a developer by profession</td>\n",
       "      <td>Independent contractor, freelancer, or self-employed</td>\n",
       "      <td>Benin</td>\n",
       "      <td>NaN</td>\n",
       "      <td>NaN</td>\n",
       "      <td>Bachelor’s degree (B.A., B.S., B.Eng., etc.)</td>\n",
       "      <td>11 - 17 years</td>\n",
       "      <td>Other online resources (ex: videos, blogs, etc);School;Online Forum;Online C...</td>\n",
       "      <td>4</td>\n",
       "      <td>...</td>\n",
       "      <td>18-24 years old</td>\n",
       "      <td>Man</td>\n",
       "      <td>No</td>\n",
       "      <td>Straight / Heterosexual</td>\n",
       "      <td>Black or of African descent</td>\n",
       "      <td>None of the above</td>\n",
       "      <td>None of the above</td>\n",
       "      <td>Appropriate in length</td>\n",
       "      <td>Easy</td>\n",
       "      <td>3960.0</td>\n",
       "    </tr>\n",
       "    <tr>\n",
       "      <th>83436</th>\n",
       "      <td>83437</td>\n",
       "      <td>I am a developer by profession</td>\n",
       "      <td>Employed full-time</td>\n",
       "      <td>United States of America</td>\n",
       "      <td>New Jersey</td>\n",
       "      <td>NaN</td>\n",
       "      <td>Secondary school (e.g. American high school, German Realschule or Gymnasium,...</td>\n",
       "      <td>11 - 17 years</td>\n",
       "      <td>School</td>\n",
       "      <td>10</td>\n",
       "      <td>...</td>\n",
       "      <td>25-34 years old</td>\n",
       "      <td>Man</td>\n",
       "      <td>No</td>\n",
       "      <td>NaN</td>\n",
       "      <td>White or of European descent</td>\n",
       "      <td>None of the above</td>\n",
       "      <td>None of the above</td>\n",
       "      <td>Appropriate in length</td>\n",
       "      <td>Neither easy nor difficult</td>\n",
       "      <td>90000.0</td>\n",
       "    </tr>\n",
       "    <tr>\n",
       "      <th>83437</th>\n",
       "      <td>83438</td>\n",
       "      <td>I am a developer by profession</td>\n",
       "      <td>Employed full-time</td>\n",
       "      <td>Canada</td>\n",
       "      <td>NaN</td>\n",
       "      <td>NaN</td>\n",
       "      <td>Bachelor’s degree (B.A., B.S., B.Eng., etc.)</td>\n",
       "      <td>11 - 17 years</td>\n",
       "      <td>Online Courses or Certification;Books / Physical media</td>\n",
       "      <td>5</td>\n",
       "      <td>...</td>\n",
       "      <td>25-34 years old</td>\n",
       "      <td>Man</td>\n",
       "      <td>No</td>\n",
       "      <td>Straight / Heterosexual</td>\n",
       "      <td>White or of European descent</td>\n",
       "      <td>None of the above</td>\n",
       "      <td>I have a mood or emotional disorder (e.g. depression, bipolar disorder)</td>\n",
       "      <td>Appropriate in length</td>\n",
       "      <td>Neither easy nor difficult</td>\n",
       "      <td>816816.0</td>\n",
       "    </tr>\n",
       "    <tr>\n",
       "      <th>83438</th>\n",
       "      <td>83439</td>\n",
       "      <td>I am a developer by profession</td>\n",
       "      <td>Employed full-time</td>\n",
       "      <td>Brazil</td>\n",
       "      <td>NaN</td>\n",
       "      <td>NaN</td>\n",
       "      <td>Professional degree (JD, MD, etc.)</td>\n",
       "      <td>11 - 17 years</td>\n",
       "      <td>School</td>\n",
       "      <td>14</td>\n",
       "      <td>...</td>\n",
       "      <td>18-24 years old</td>\n",
       "      <td>Man</td>\n",
       "      <td>No</td>\n",
       "      <td>Straight / Heterosexual</td>\n",
       "      <td>Hispanic or Latino/a/x</td>\n",
       "      <td>None of the above</td>\n",
       "      <td>None of the above</td>\n",
       "      <td>Appropriate in length</td>\n",
       "      <td>Easy</td>\n",
       "      <td>21168.0</td>\n",
       "    </tr>\n",
       "  </tbody>\n",
       "</table>\n",
       "<p>5 rows × 48 columns</p>\n",
       "</div>"
      ],
      "text/plain": [
       "       ResponseId                      MainBranch  \\\n",
       "83434       83435  I am a developer by profession   \n",
       "83435       83436  I am a developer by profession   \n",
       "83436       83437  I am a developer by profession   \n",
       "83437       83438  I am a developer by profession   \n",
       "83438       83439  I am a developer by profession   \n",
       "\n",
       "                                                 Employment  \\\n",
       "83434                                    Employed full-time   \n",
       "83435  Independent contractor, freelancer, or self-employed   \n",
       "83436                                    Employed full-time   \n",
       "83437                                    Employed full-time   \n",
       "83438                                    Employed full-time   \n",
       "\n",
       "                        Country    US_State UK_Country  \\\n",
       "83434  United States of America       Texas        NaN   \n",
       "83435                     Benin         NaN        NaN   \n",
       "83436  United States of America  New Jersey        NaN   \n",
       "83437                    Canada         NaN        NaN   \n",
       "83438                    Brazil         NaN        NaN   \n",
       "\n",
       "                                                                               EdLevel  \\\n",
       "83434                                     Bachelor’s degree (B.A., B.S., B.Eng., etc.)   \n",
       "83435                                     Bachelor’s degree (B.A., B.S., B.Eng., etc.)   \n",
       "83436  Secondary school (e.g. American high school, German Realschule or Gymnasium,...   \n",
       "83437                                     Bachelor’s degree (B.A., B.S., B.Eng., etc.)   \n",
       "83438                                               Professional degree (JD, MD, etc.)   \n",
       "\n",
       "          Age1stCode  \\\n",
       "83434  11 - 17 years   \n",
       "83435  11 - 17 years   \n",
       "83436  11 - 17 years   \n",
       "83437  11 - 17 years   \n",
       "83438  11 - 17 years   \n",
       "\n",
       "                                                                             LearnCode  \\\n",
       "83434              Other online resources (ex: videos, blogs, etc);School;Online Forum   \n",
       "83435  Other online resources (ex: videos, blogs, etc);School;Online Forum;Online C...   \n",
       "83436                                                                           School   \n",
       "83437                           Online Courses or Certification;Books / Physical media   \n",
       "83438                                                                           School   \n",
       "\n",
       "      YearsCode  ...              Age Gender Trans                Sexuality  \\\n",
       "83434         6  ...  25-34 years old    Man    No  Straight / Heterosexual   \n",
       "83435         4  ...  18-24 years old    Man    No  Straight / Heterosexual   \n",
       "83436        10  ...  25-34 years old    Man    No                      NaN   \n",
       "83437         5  ...  25-34 years old    Man    No  Straight / Heterosexual   \n",
       "83438        14  ...  18-24 years old    Man    No  Straight / Heterosexual   \n",
       "\n",
       "                          Ethnicity      Accessibility  \\\n",
       "83434  White or of European descent  None of the above   \n",
       "83435   Black or of African descent  None of the above   \n",
       "83436  White or of European descent  None of the above   \n",
       "83437  White or of European descent  None of the above   \n",
       "83438        Hispanic or Latino/a/x  None of the above   \n",
       "\n",
       "                                                                  MentalHealth  \\\n",
       "83434                I have a concentration and/or memory disorder (e.g. ADHD)   \n",
       "83435                                                        None of the above   \n",
       "83436                                                        None of the above   \n",
       "83437  I have a mood or emotional disorder (e.g. depression, bipolar disorder)   \n",
       "83438                                                        None of the above   \n",
       "\n",
       "                SurveyLength                  SurveyEase ConvertedCompYearly  \n",
       "83434  Appropriate in length                        Easy            160500.0  \n",
       "83435  Appropriate in length                        Easy              3960.0  \n",
       "83436  Appropriate in length  Neither easy nor difficult             90000.0  \n",
       "83437  Appropriate in length  Neither easy nor difficult            816816.0  \n",
       "83438  Appropriate in length                        Easy             21168.0  \n",
       "\n",
       "[5 rows x 48 columns]"
      ]
     },
     "execution_count": 9,
     "metadata": {},
     "output_type": "execute_result"
    }
   ],
   "source": [
    "# Check several last rows\n",
    "survey.tail()"
   ]
  },
  {
   "cell_type": "markdown",
   "id": "0b5d061a",
   "metadata": {},
   "source": [
    "### Check null values"
   ]
  },
  {
   "cell_type": "code",
   "execution_count": 10,
   "id": "4b062d3f",
   "metadata": {
    "scrolled": true
   },
   "outputs": [
    {
     "data": {
      "text/html": [
       "<div>\n",
       "<style scoped>\n",
       "    .dataframe tbody tr th:only-of-type {\n",
       "        vertical-align: middle;\n",
       "    }\n",
       "\n",
       "    .dataframe tbody tr th {\n",
       "        vertical-align: top;\n",
       "    }\n",
       "\n",
       "    .dataframe thead th {\n",
       "        text-align: right;\n",
       "    }\n",
       "</style>\n",
       "<table border=\"1\" class=\"dataframe\">\n",
       "  <thead>\n",
       "    <tr style=\"text-align: right;\">\n",
       "      <th></th>\n",
       "      <th>column</th>\n",
       "      <th>null_count</th>\n",
       "      <th>null_perc</th>\n",
       "    </tr>\n",
       "  </thead>\n",
       "  <tbody>\n",
       "    <tr>\n",
       "      <th>5</th>\n",
       "      <td>UK_Country</td>\n",
       "      <td>79021</td>\n",
       "      <td>0.947051</td>\n",
       "    </tr>\n",
       "    <tr>\n",
       "      <th>4</th>\n",
       "      <td>US_State</td>\n",
       "      <td>68519</td>\n",
       "      <td>0.821187</td>\n",
       "    </tr>\n",
       "    <tr>\n",
       "      <th>25</th>\n",
       "      <td>MiscTechWantToWorkWith</td>\n",
       "      <td>45418</td>\n",
       "      <td>0.544326</td>\n",
       "    </tr>\n",
       "    <tr>\n",
       "      <th>21</th>\n",
       "      <td>PlatformWantToWorkWith</td>\n",
       "      <td>41820</td>\n",
       "      <td>0.501204</td>\n",
       "    </tr>\n",
       "    <tr>\n",
       "      <th>47</th>\n",
       "      <td>ConvertedCompYearly</td>\n",
       "      <td>36595</td>\n",
       "      <td>0.438584</td>\n",
       "    </tr>\n",
       "    <tr>\n",
       "      <th>24</th>\n",
       "      <td>MiscTechHaveWorkedWith</td>\n",
       "      <td>36384</td>\n",
       "      <td>0.436055</td>\n",
       "    </tr>\n",
       "    <tr>\n",
       "      <th>14</th>\n",
       "      <td>CompTotal</td>\n",
       "      <td>36256</td>\n",
       "      <td>0.434521</td>\n",
       "    </tr>\n",
       "    <tr>\n",
       "      <th>23</th>\n",
       "      <td>WebframeWantToWorkWith</td>\n",
       "      <td>31344</td>\n",
       "      <td>0.375652</td>\n",
       "    </tr>\n",
       "    <tr>\n",
       "      <th>20</th>\n",
       "      <td>PlatformHaveWorkedWith</td>\n",
       "      <td>31304</td>\n",
       "      <td>0.375172</td>\n",
       "    </tr>\n",
       "    <tr>\n",
       "      <th>15</th>\n",
       "      <td>CompFreq</td>\n",
       "      <td>31289</td>\n",
       "      <td>0.374993</td>\n",
       "    </tr>\n",
       "  </tbody>\n",
       "</table>\n",
       "</div>"
      ],
      "text/plain": [
       "                    column  null_count  null_perc\n",
       "5               UK_Country       79021   0.947051\n",
       "4                 US_State       68519   0.821187\n",
       "25  MiscTechWantToWorkWith       45418   0.544326\n",
       "21  PlatformWantToWorkWith       41820   0.501204\n",
       "47     ConvertedCompYearly       36595   0.438584\n",
       "24  MiscTechHaveWorkedWith       36384   0.436055\n",
       "14               CompTotal       36256   0.434521\n",
       "23  WebframeWantToWorkWith       31344   0.375652\n",
       "20  PlatformHaveWorkedWith       31304   0.375172\n",
       "15                CompFreq       31289   0.374993"
      ]
     },
     "execution_count": 10,
     "metadata": {},
     "output_type": "execute_result"
    }
   ],
   "source": [
    "# Check percentage of null values by column\n",
    "null_df = check_null(survey)\n",
    "# Check top 10 columns with highest null values\n",
    "null_df.head(10)"
   ]
  },
  {
   "cell_type": "markdown",
   "id": "bdd9839c",
   "metadata": {},
   "source": [
    "# 3. Respondent Profiles\n",
    "-------------------\n",
    "To better understand the data, it's necessary to study backgrounds of persons whom are answering our survey"
   ]
  },
  {
   "cell_type": "markdown",
   "id": "2f449c99",
   "metadata": {},
   "source": [
    "### Which countries do our respondents come from?"
   ]
  },
  {
   "cell_type": "code",
   "execution_count": 11,
   "id": "2907ff19",
   "metadata": {},
   "outputs": [
    {
     "data": {
      "image/png": "[encoded data removed]",
      "text/plain": [
       "<Figure size 864x576 with 1 Axes>"
      ]
     },
     "metadata": {
      "needs_background": "light"
     },
     "output_type": "display_data"
    }
   ],
   "source": [
    "sa_values_percentage(survey, 'Country', top=10, \n",
    "                     title='Which countries do our respondents come from?',\n",
    "                     color='Blues_r', plot=True)"
   ]
  },
  {
   "cell_type": "markdown",
   "id": "dde0971e",
   "metadata": {},
   "source": [
    "**Comment**:\n",
    "- A majority of respondents come home the U.S and India"
   ]
  },
  {
   "cell_type": "markdown",
   "id": "5083ee97",
   "metadata": {},
   "source": [
    "### What are their current statuses?"
   ]
  },
  {
   "cell_type": "code",
   "execution_count": 12,
   "id": "29292ef3",
   "metadata": {},
   "outputs": [
    {
     "data": {
      "image/png": "[encoded data removed]",
      "text/plain": [
       "<Figure size 864x576 with 1 Axes>"
      ]
     },
     "metadata": {
      "needs_background": "light"
     },
     "output_type": "display_data"
    }
   ],
   "source": [
    "sa_values_percentage(survey, 'Employment',\n",
    "                     title='What are their current employment statuses?', \n",
    "                     color='Blues_r', plot=True)"
   ]
  },
  {
   "cell_type": "markdown",
   "id": "22acd960",
   "metadata": {},
   "source": [
    "**Comment**\n",
    "- Approximately 65% of respondents are full-time employees\n",
    "- Then, followed by around 15% of students and 10% of freelance/self-employed persons."
   ]
  },
  {
   "cell_type": "markdown",
   "id": "329f1cbe",
   "metadata": {},
   "source": [
    "### How about education level?"
   ]
  },
  {
   "cell_type": "code",
   "execution_count": 13,
   "id": "3e5fd5c3",
   "metadata": {},
   "outputs": [
    {
     "data": {
      "image/png": "[encoded data removed]",
      "text/plain": [
       "<Figure size 864x576 with 1 Axes>"
      ]
     },
     "metadata": {
      "needs_background": "light"
     },
     "output_type": "display_data"
    }
   ],
   "source": [
    "sa_values_percentage(survey, 'EdLevel',\n",
    "                     title='Education level',\n",
    "                     color='Blues_r', plot=True)"
   ]
  },
  {
   "cell_type": "markdown",
   "id": "754f4693",
   "metadata": {},
   "source": [
    "**Comment**\n",
    "- Most possess Bachelor and Master Degree"
   ]
  },
  {
   "cell_type": "markdown",
   "id": "6108f887",
   "metadata": {},
   "source": [
    "### How many percent that Data Scientists and ML specialists occupy?"
   ]
  },
  {
   "cell_type": "code",
   "execution_count": 14,
   "id": "61f20159",
   "metadata": {},
   "outputs": [
    {
     "data": {
      "image/png": "[encoded data removed]",
      "text/plain": [
       "<Figure size 864x576 with 1 Axes>"
      ]
     },
     "metadata": {
      "needs_background": "light"
     },
     "output_type": "display_data"
    }
   ],
   "source": [
    "ma_values_percentage(survey, 'DevType', top=0,\n",
    "                     title='Which of the following describes your current job?',\n",
    "                     sep=';', plot=True)"
   ]
  },
  {
   "cell_type": "markdown",
   "id": "a16012dd",
   "metadata": {},
   "source": [
    "**Comment**\n",
    "- Around 5% percent of our respondents state their roles as Data scientists/ Machine Learning"
   ]
  },
  {
   "cell_type": "markdown",
   "id": "b86f0361",
   "metadata": {},
   "source": [
    "# 4. Data preparation\n",
    "-------------------\n",
    "For this analysis, we're only interest in Data Scientist/ML Specialists."
   ]
  },
  {
   "cell_type": "code",
   "execution_count": 15,
   "id": "809c9891",
   "metadata": {},
   "outputs": [
    {
     "name": "stdout",
     "output_type": "stream",
     "text": [
      "['Developer, game or graphics', 'Developer, full-stack', 'Student', 'Developer, front-end', 'Developer, embedded applications or devices', 'Data or business analyst', 'Engineering manager', 'Developer, QA or test', 'Product manager', 'Developer, back-end', 'Developer, desktop or enterprise applications', 'Senior Executive (C-Suite, VP, etc.)', 'DevOps specialist', 'Educator', 'Academic researcher', 'Other (please specify):', 'System administrator', 'Data scientist or machine learning specialist', 'No Answer', 'Engineer, data', 'Engineer, site reliability', 'Scientist', 'Developer, mobile', 'Database administrator', 'Designer', 'Marketing or sales professional']\n"
     ]
    }
   ],
   "source": [
    "# Check all unique Dev Types\n",
    "ma_distinct_values(survey, 'DevType')"
   ]
  },
  {
   "cell_type": "code",
   "execution_count": 16,
   "id": "aab3ef42",
   "metadata": {},
   "outputs": [],
   "source": [
    "# Create a flag column to separate Data scientists and Machine Learning specialists\n",
    "survey['Flag_DSML'] = survey['DevType'].apply(lambda x: 'Data scientist or machine learning specialist' in str(x))"
   ]
  },
  {
   "cell_type": "code",
   "execution_count": 17,
   "id": "bd41a6f5",
   "metadata": {},
   "outputs": [],
   "source": [
    "ds = survey[survey['Flag_DSML'] == True]\n",
    "non_ds = survey[survey['Flag_DSML'] == False]"
   ]
  },
  {
   "cell_type": "code",
   "execution_count": 18,
   "id": "38b2f054",
   "metadata": {},
   "outputs": [
    {
     "data": {
      "text/plain": [
       "4273"
      ]
     },
     "execution_count": 18,
     "metadata": {},
     "output_type": "execute_result"
    }
   ],
   "source": [
    "# The number of DS/ML Specialists\n",
    "len(ds)"
   ]
  },
  {
   "cell_type": "code",
   "execution_count": 19,
   "id": "e62747cb",
   "metadata": {},
   "outputs": [
    {
     "data": {
      "text/plain": [
       "79166"
      ]
     },
     "execution_count": 19,
     "metadata": {},
     "output_type": "execute_result"
    }
   ],
   "source": [
    "# The number of other Dev Type\n",
    "len(non_ds)"
   ]
  },
  {
   "cell_type": "markdown",
   "id": "eac44dc2",
   "metadata": {},
   "source": [
    "# 5. Data Analysis\n"
   ]
  },
  {
   "cell_type": "markdown",
   "id": "3df24e8d",
   "metadata": {},
   "source": [
    "### Question 1: Are the demands for Data Scientists/ Machine Learning Specialists higher in big companies? "
   ]
  },
  {
   "cell_type": "code",
   "execution_count": 20,
   "id": "44b48185",
   "metadata": {},
   "outputs": [
    {
     "data": {
      "text/html": [
       "<div>\n",
       "<style scoped>\n",
       "    .dataframe tbody tr th:only-of-type {\n",
       "        vertical-align: middle;\n",
       "    }\n",
       "\n",
       "    .dataframe tbody tr th {\n",
       "        vertical-align: top;\n",
       "    }\n",
       "\n",
       "    .dataframe thead th {\n",
       "        text-align: right;\n",
       "    }\n",
       "</style>\n",
       "<table border=\"1\" class=\"dataframe\">\n",
       "  <thead>\n",
       "    <tr style=\"text-align: right;\">\n",
       "      <th></th>\n",
       "      <th>OrgSize</th>\n",
       "      <th>count</th>\n",
       "      <th>percentage</th>\n",
       "    </tr>\n",
       "  </thead>\n",
       "  <tbody>\n",
       "    <tr>\n",
       "      <th>0</th>\n",
       "      <td>Just me - I am a freelancer, sole proprietor, etc.</td>\n",
       "      <td>4033</td>\n",
       "      <td>6.641307</td>\n",
       "    </tr>\n",
       "    <tr>\n",
       "      <th>1</th>\n",
       "      <td>2 to 9 employees</td>\n",
       "      <td>6551</td>\n",
       "      <td>10.787801</td>\n",
       "    </tr>\n",
       "    <tr>\n",
       "      <th>2</th>\n",
       "      <td>10 to 19 employees</td>\n",
       "      <td>5404</td>\n",
       "      <td>8.898989</td>\n",
       "    </tr>\n",
       "    <tr>\n",
       "      <th>3</th>\n",
       "      <td>20 to 99 employees</td>\n",
       "      <td>12507</td>\n",
       "      <td>20.595791</td>\n",
       "    </tr>\n",
       "    <tr>\n",
       "      <th>4</th>\n",
       "      <td>100 to 499 employees</td>\n",
       "      <td>10506</td>\n",
       "      <td>17.300662</td>\n",
       "    </tr>\n",
       "    <tr>\n",
       "      <th>5</th>\n",
       "      <td>500 to 999 employees</td>\n",
       "      <td>3789</td>\n",
       "      <td>6.239502</td>\n",
       "    </tr>\n",
       "    <tr>\n",
       "      <th>6</th>\n",
       "      <td>1,000 to 4,999 employees</td>\n",
       "      <td>6287</td>\n",
       "      <td>10.353061</td>\n",
       "    </tr>\n",
       "    <tr>\n",
       "      <th>7</th>\n",
       "      <td>5,000 to 9,999 employees</td>\n",
       "      <td>2279</td>\n",
       "      <td>3.752923</td>\n",
       "    </tr>\n",
       "    <tr>\n",
       "      <th>8</th>\n",
       "      <td>10,000 or more employees</td>\n",
       "      <td>8016</td>\n",
       "      <td>13.200277</td>\n",
       "    </tr>\n",
       "    <tr>\n",
       "      <th>9</th>\n",
       "      <td>I don’t know</td>\n",
       "      <td>1354</td>\n",
       "      <td>2.229687</td>\n",
       "    </tr>\n",
       "  </tbody>\n",
       "</table>\n",
       "</div>"
      ],
      "text/plain": [
       "                                              OrgSize  count  percentage\n",
       "0  Just me - I am a freelancer, sole proprietor, etc.   4033    6.641307\n",
       "1                                    2 to 9 employees   6551   10.787801\n",
       "2                                  10 to 19 employees   5404    8.898989\n",
       "3                                  20 to 99 employees  12507   20.595791\n",
       "4                                100 to 499 employees  10506   17.300662\n",
       "5                                500 to 999 employees   3789    6.239502\n",
       "6                            1,000 to 4,999 employees   6287   10.353061\n",
       "7                            5,000 to 9,999 employees   2279    3.752923\n",
       "8                            10,000 or more employees   8016   13.200277\n",
       "9                                        I don’t know   1354    2.229687"
      ]
     },
     "execution_count": 20,
     "metadata": {},
     "output_type": "execute_result"
    }
   ],
   "source": [
    "# Get overview of company size in our dataset\n",
    "org_size_df = summarize_org_size(survey)\n",
    "org_size_df"
   ]
  },
  {
   "cell_type": "code",
   "execution_count": 21,
   "id": "6cad105e",
   "metadata": {},
   "outputs": [
    {
     "data": {
      "text/html": [
       "<div>\n",
       "<style scoped>\n",
       "    .dataframe tbody tr th:only-of-type {\n",
       "        vertical-align: middle;\n",
       "    }\n",
       "\n",
       "    .dataframe tbody tr th {\n",
       "        vertical-align: top;\n",
       "    }\n",
       "\n",
       "    .dataframe thead th {\n",
       "        text-align: right;\n",
       "    }\n",
       "</style>\n",
       "<table border=\"1\" class=\"dataframe\">\n",
       "  <thead>\n",
       "    <tr style=\"text-align: right;\">\n",
       "      <th></th>\n",
       "      <th>OrgSize</th>\n",
       "      <th>DS/ML Percentage</th>\n",
       "    </tr>\n",
       "  </thead>\n",
       "  <tbody>\n",
       "    <tr>\n",
       "      <th>0</th>\n",
       "      <td>2 to 9 employees</td>\n",
       "      <td>6.166997</td>\n",
       "    </tr>\n",
       "    <tr>\n",
       "      <th>1</th>\n",
       "      <td>10 to 19 employees</td>\n",
       "      <td>5.625463</td>\n",
       "    </tr>\n",
       "    <tr>\n",
       "      <th>2</th>\n",
       "      <td>20 to 99 employees</td>\n",
       "      <td>5.636843</td>\n",
       "    </tr>\n",
       "    <tr>\n",
       "      <th>3</th>\n",
       "      <td>100 to 499 employees</td>\n",
       "      <td>5.358843</td>\n",
       "    </tr>\n",
       "    <tr>\n",
       "      <th>4</th>\n",
       "      <td>500 to 999 employees</td>\n",
       "      <td>6.228556</td>\n",
       "    </tr>\n",
       "    <tr>\n",
       "      <th>5</th>\n",
       "      <td>1,000 to 4,999 employees</td>\n",
       "      <td>7.364403</td>\n",
       "    </tr>\n",
       "    <tr>\n",
       "      <th>6</th>\n",
       "      <td>5,000 to 9,999 employees</td>\n",
       "      <td>8.161474</td>\n",
       "    </tr>\n",
       "    <tr>\n",
       "      <th>7</th>\n",
       "      <td>10,000 or more employees</td>\n",
       "      <td>8.495509</td>\n",
       "    </tr>\n",
       "  </tbody>\n",
       "</table>\n",
       "</div>"
      ],
      "text/plain": [
       "                    OrgSize  DS/ML Percentage\n",
       "0          2 to 9 employees          6.166997\n",
       "1        10 to 19 employees          5.625463\n",
       "2        20 to 99 employees          5.636843\n",
       "3      100 to 499 employees          5.358843\n",
       "4      500 to 999 employees          6.228556\n",
       "5  1,000 to 4,999 employees          7.364403\n",
       "6  5,000 to 9,999 employees          8.161474\n",
       "7  10,000 or more employees          8.495509"
      ]
     },
     "execution_count": 21,
     "metadata": {},
     "output_type": "execute_result"
    }
   ],
   "source": [
    "# For each company size, get the percentage of respondents who describes their role as DS/ML specialists\n",
    "ds_by_orgsize = ds_org_size(survey)\n",
    "ds_by_orgsize"
   ]
  },
  {
   "cell_type": "code",
   "execution_count": 22,
   "id": "13852621",
   "metadata": {},
   "outputs": [
    {
     "data": {
      "image/png": "[encoded data removed]",
      "text/plain": [
       "<Figure size 720x576 with 1 Axes>"
      ]
     },
     "metadata": {
      "needs_background": "light"
     },
     "output_type": "display_data"
    }
   ],
   "source": [
    "# Visualize results\n",
    "plt.figure(figsize=(10, 8))\n",
    "plt.bar(data=ds_by_orgsize, x='OrgSize', height='DS/ML Percentage', color='#5fba7d')\n",
    "plt.xticks(rotation=45)\n",
    "plt.tight_layout()\n",
    "plt.title(\"Percentage of DS/ML by Organization Size\")\n",
    "plt.show()"
   ]
  },
  {
   "cell_type": "markdown",
   "id": "f59107c5",
   "metadata": {},
   "source": [
    "### Question 2: How to enter the field as a DS/ML?"
   ]
  },
  {
   "cell_type": "code",
   "execution_count": 23,
   "id": "dd5ed8a0",
   "metadata": {},
   "outputs": [],
   "source": [
    "# DS Education\n",
    "ds_education = sa_values_percentage(ds, 'EdLevel', plot=False)\n",
    "ds_education = ds_education.reset_index()\n",
    "# Non-DS Education\n",
    "non_ds_education = sa_values_percentage(non_ds, 'EdLevel', plot=False)\n",
    "non_ds_education = non_ds_education.reset_index()"
   ]
  },
  {
   "cell_type": "code",
   "execution_count": 24,
   "id": "5d207fd8",
   "metadata": {},
   "outputs": [
    {
     "data": {
      "text/html": [
       "<style  type=\"text/css\" >\n",
       "#T_05114562_9312_11ec_91aa_94e979ef44f4row0_col3{\n",
       "            width:  10em;\n",
       "             height:  80%;\n",
       "            background:  linear-gradient(90deg, transparent 37.3%, #5fba7d 37.3%, #5fba7d 100.0%, transparent 100.0%);\n",
       "        }#T_05114562_9312_11ec_91aa_94e979ef44f4row1_col3{\n",
       "            width:  10em;\n",
       "             height:  80%;\n",
       "            background:  linear-gradient(90deg,#d65f5f 37.3%, transparent 37.3%);\n",
       "        }#T_05114562_9312_11ec_91aa_94e979ef44f4row2_col3{\n",
       "            width:  10em;\n",
       "             height:  80%;\n",
       "            background:  linear-gradient(90deg, transparent 37.3%, #5fba7d 37.3%, #5fba7d 80.4%, transparent 80.4%);\n",
       "        }#T_05114562_9312_11ec_91aa_94e979ef44f4row3_col3{\n",
       "            width:  10em;\n",
       "             height:  80%;\n",
       "            background:  linear-gradient(90deg, transparent 13.3%, #d65f5f 13.3%, #d65f5f 37.3%, transparent 37.3%);\n",
       "        }#T_05114562_9312_11ec_91aa_94e979ef44f4row4_col3{\n",
       "            width:  10em;\n",
       "             height:  80%;\n",
       "            background:  linear-gradient(90deg, transparent 8.8%, #d65f5f 8.8%, #d65f5f 37.3%, transparent 37.3%);\n",
       "        }#T_05114562_9312_11ec_91aa_94e979ef44f4row5_col3{\n",
       "            width:  10em;\n",
       "             height:  80%;\n",
       "            background:  linear-gradient(90deg, transparent 37.3%, #5fba7d 37.3%, #5fba7d 37.8%, transparent 37.8%);\n",
       "        }#T_05114562_9312_11ec_91aa_94e979ef44f4row6_col3{\n",
       "            width:  10em;\n",
       "             height:  80%;\n",
       "            background:  linear-gradient(90deg, transparent 31.9%, #d65f5f 31.9%, #d65f5f 37.3%, transparent 37.3%);\n",
       "        }#T_05114562_9312_11ec_91aa_94e979ef44f4row7_col3{\n",
       "            width:  10em;\n",
       "             height:  80%;\n",
       "            background:  linear-gradient(90deg, transparent 30.1%, #d65f5f 30.1%, #d65f5f 37.3%, transparent 37.3%);\n",
       "        }#T_05114562_9312_11ec_91aa_94e979ef44f4row8_col3{\n",
       "            width:  10em;\n",
       "             height:  80%;\n",
       "            background:  linear-gradient(90deg, transparent 33.5%, #d65f5f 33.5%, #d65f5f 37.3%, transparent 37.3%);\n",
       "        }</style><table id=\"T_05114562_9312_11ec_91aa_94e979ef44f4\" ><thead>    <tr>        <th class=\"blank level0\" ></th>        <th class=\"col_heading level0 col0\" >EdLevel</th>        <th class=\"col_heading level0 col1\" >DS/ML</th>        <th class=\"col_heading level0 col2\" >Other Roles</th>        <th class=\"col_heading level0 col3\" >Diff</th>    </tr></thead><tbody>\n",
       "                <tr>\n",
       "                        <th id=\"T_05114562_9312_11ec_91aa_94e979ef44f4level0_row0\" class=\"row_heading level0 row0\" >0</th>\n",
       "                        <td id=\"T_05114562_9312_11ec_91aa_94e979ef44f4row0_col0\" class=\"data row0 col0\" >Master’s degree (M.A., M.S., M.Eng., MBA, etc.)</td>\n",
       "                        <td id=\"T_05114562_9312_11ec_91aa_94e979ef44f4row0_col1\" class=\"data row0 col1\" >40.749415</td>\n",
       "                        <td id=\"T_05114562_9312_11ec_91aa_94e979ef44f4row0_col2\" class=\"data row0 col2\" >20.001015</td>\n",
       "                        <td id=\"T_05114562_9312_11ec_91aa_94e979ef44f4row0_col3\" class=\"data row0 col3\" >20.748400</td>\n",
       "            </tr>\n",
       "            <tr>\n",
       "                        <th id=\"T_05114562_9312_11ec_91aa_94e979ef44f4level0_row1\" class=\"row_heading level0 row1\" >1</th>\n",
       "                        <td id=\"T_05114562_9312_11ec_91aa_94e979ef44f4row1_col0\" class=\"data row1 col0\" >Bachelor’s degree (B.A., B.S., B.Eng., etc.)</td>\n",
       "                        <td id=\"T_05114562_9312_11ec_91aa_94e979ef44f4row1_col1\" class=\"data row1 col1\" >30.819672</td>\n",
       "                        <td id=\"T_05114562_9312_11ec_91aa_94e979ef44f4row1_col2\" class=\"data row1 col2\" >43.168560</td>\n",
       "                        <td id=\"T_05114562_9312_11ec_91aa_94e979ef44f4row1_col3\" class=\"data row1 col3\" >-12.348888</td>\n",
       "            </tr>\n",
       "            <tr>\n",
       "                        <th id=\"T_05114562_9312_11ec_91aa_94e979ef44f4level0_row2\" class=\"row_heading level0 row2\" >2</th>\n",
       "                        <td id=\"T_05114562_9312_11ec_91aa_94e979ef44f4row2_col0\" class=\"data row2 col0\" >Other doctoral degree (Ph.D., Ed.D., etc.)</td>\n",
       "                        <td id=\"T_05114562_9312_11ec_91aa_94e979ef44f4row2_col1\" class=\"data row2 col1\" >16.627635</td>\n",
       "                        <td id=\"T_05114562_9312_11ec_91aa_94e979ef44f4row2_col2\" class=\"data row2 col2\" >2.354925</td>\n",
       "                        <td id=\"T_05114562_9312_11ec_91aa_94e979ef44f4row2_col3\" class=\"data row2 col3\" >14.272709</td>\n",
       "            </tr>\n",
       "            <tr>\n",
       "                        <th id=\"T_05114562_9312_11ec_91aa_94e979ef44f4level0_row3\" class=\"row_heading level0 row3\" >3</th>\n",
       "                        <td id=\"T_05114562_9312_11ec_91aa_94e979ef44f4row3_col0\" class=\"data row3 col0\" >Some college/university study without earning a degree</td>\n",
       "                        <td id=\"T_05114562_9312_11ec_91aa_94e979ef44f4row3_col1\" class=\"data row3 col1\" >5.199063</td>\n",
       "                        <td id=\"T_05114562_9312_11ec_91aa_94e979ef44f4row3_col2\" class=\"data row3 col2\" >13.146749</td>\n",
       "                        <td id=\"T_05114562_9312_11ec_91aa_94e979ef44f4row3_col3\" class=\"data row3 col3\" >-7.947685</td>\n",
       "            </tr>\n",
       "            <tr>\n",
       "                        <th id=\"T_05114562_9312_11ec_91aa_94e979ef44f4level0_row4\" class=\"row_heading level0 row4\" >4</th>\n",
       "                        <td id=\"T_05114562_9312_11ec_91aa_94e979ef44f4row4_col0\" class=\"data row4 col0\" >Secondary school (e.g. American high school, German Realschule or Gymnasium, etc.)</td>\n",
       "                        <td id=\"T_05114562_9312_11ec_91aa_94e979ef44f4row4_col1\" class=\"data row4 col1\" >2.505855</td>\n",
       "                        <td id=\"T_05114562_9312_11ec_91aa_94e979ef44f4row4_col2\" class=\"data row4 col2\" >11.954702</td>\n",
       "                        <td id=\"T_05114562_9312_11ec_91aa_94e979ef44f4row4_col3\" class=\"data row4 col3\" >-9.448847</td>\n",
       "            </tr>\n",
       "            <tr>\n",
       "                        <th id=\"T_05114562_9312_11ec_91aa_94e979ef44f4level0_row5\" class=\"row_heading level0 row5\" >5</th>\n",
       "                        <td id=\"T_05114562_9312_11ec_91aa_94e979ef44f4row5_col0\" class=\"data row5 col0\" >Professional degree (JD, MD, etc.)</td>\n",
       "                        <td id=\"T_05114562_9312_11ec_91aa_94e979ef44f4row5_col1\" class=\"data row5 col1\" >1.662763</td>\n",
       "                        <td id=\"T_05114562_9312_11ec_91aa_94e979ef44f4row5_col2\" class=\"data row5 col2\" >1.502739</td>\n",
       "                        <td id=\"T_05114562_9312_11ec_91aa_94e979ef44f4row5_col3\" class=\"data row5 col3\" >0.160024</td>\n",
       "            </tr>\n",
       "            <tr>\n",
       "                        <th id=\"T_05114562_9312_11ec_91aa_94e979ef44f4level0_row6\" class=\"row_heading level0 row6\" >6</th>\n",
       "                        <td id=\"T_05114562_9312_11ec_91aa_94e979ef44f4row6_col0\" class=\"data row6 col0\" >Associate degree (A.A., A.S., etc.)</td>\n",
       "                        <td id=\"T_05114562_9312_11ec_91aa_94e979ef44f4row6_col1\" class=\"data row6 col1\" >0.983607</td>\n",
       "                        <td id=\"T_05114562_9312_11ec_91aa_94e979ef44f4row6_col2\" class=\"data row6 col2\" >2.775946</td>\n",
       "                        <td id=\"T_05114562_9312_11ec_91aa_94e979ef44f4row6_col3\" class=\"data row6 col3\" >-1.792339</td>\n",
       "            </tr>\n",
       "            <tr>\n",
       "                        <th id=\"T_05114562_9312_11ec_91aa_94e979ef44f4level0_row7\" class=\"row_heading level0 row7\" >7</th>\n",
       "                        <td id=\"T_05114562_9312_11ec_91aa_94e979ef44f4row7_col0\" class=\"data row7 col0\" >Primary/elementary school</td>\n",
       "                        <td id=\"T_05114562_9312_11ec_91aa_94e979ef44f4row7_col1\" class=\"data row7 col1\" >0.725995</td>\n",
       "                        <td id=\"T_05114562_9312_11ec_91aa_94e979ef44f4row7_col2\" class=\"data row7 col2\" >3.104393</td>\n",
       "                        <td id=\"T_05114562_9312_11ec_91aa_94e979ef44f4row7_col3\" class=\"data row7 col3\" >-2.378398</td>\n",
       "            </tr>\n",
       "            <tr>\n",
       "                        <th id=\"T_05114562_9312_11ec_91aa_94e979ef44f4level0_row8\" class=\"row_heading level0 row8\" >8</th>\n",
       "                        <td id=\"T_05114562_9312_11ec_91aa_94e979ef44f4row8_col0\" class=\"data row8 col0\" >Something else</td>\n",
       "                        <td id=\"T_05114562_9312_11ec_91aa_94e979ef44f4row8_col1\" class=\"data row8 col1\" >0.725995</td>\n",
       "                        <td id=\"T_05114562_9312_11ec_91aa_94e979ef44f4row8_col2\" class=\"data row8 col2\" >1.990971</td>\n",
       "                        <td id=\"T_05114562_9312_11ec_91aa_94e979ef44f4row8_col3\" class=\"data row8 col3\" >-1.264976</td>\n",
       "            </tr>\n",
       "    </tbody></table>"
      ],
      "text/plain": [
       "<pandas.io.formats.style.Styler at 0x1eda53d0d60>"
      ]
     },
     "execution_count": 24,
     "metadata": {},
     "output_type": "execute_result"
    }
   ],
   "source": [
    "education = compare_groups('EdLevel', ds_education, 'DS/ML', non_ds_education, 'Other Roles')\n",
    "education"
   ]
  },
  {
   "cell_type": "code",
   "execution_count": 166,
   "id": "3a31fdd7",
   "metadata": {},
   "outputs": [
    {
     "data": {
      "image/png": "[encoded data removed]",
      "text/plain": [
       "<Figure size 557.419x572.185 with 1 Axes>"
      ]
     },
     "metadata": {
      "needs_background": "light"
     },
     "output_type": "display_data"
    }
   ],
   "source": [
    "# Get dataframe\n",
    "education_df = education.data[['EdLevel', 'DS/ML', 'Other Roles']]\n",
    "education_df.set_index('EdLevel', inplace=True)\n",
    "\n",
    "# Visualize results\n",
    "def set_size(w,h, ax=None):\n",
    "    \"\"\" w, h: width, height in inches \"\"\"\n",
    "    if not ax: ax=plt.gca()\n",
    "    l = ax.figure.subplotpars.left\n",
    "    r = ax.figure.subplotpars.right\n",
    "    t = ax.figure.subplotpars.top\n",
    "    b = ax.figure.subplotpars.bottom\n",
    "    figw = float(w)/(r-l)\n",
    "    figh = float(h)/(t-b)\n",
    "    ax.figure.set_size_inches(figw, figh)\n",
    "\n",
    "axes = education_df.plot.barh()\n",
    "set_size(6,6, ax=axes)\n",
    "plt.title(\"Percentage of highest education between Data Scientists/Machine Learning Specialists and Other Roles\")\n",
    "plt.ylabel(\"Highest Education Level\")\n",
    "plt.xlabel(\"Percentage\")\n",
    "plt.gca().invert_yaxis()\n",
    "plt.show()"
   ]
  },
  {
   "cell_type": "code",
   "execution_count": 25,
   "id": "61ceb993",
   "metadata": {},
   "outputs": [
    {
     "name": "stdout",
     "output_type": "stream",
     "text": [
      "['Online Forum', 'Friend or family member', 'Other online resources (ex: videos, blogs, etc)', 'Other (please specify):', 'Colleague', 'Online Courses or Certification', 'No Answer', 'Coding Bootcamp', 'School', 'Books / Physical media']\n"
     ]
    }
   ],
   "source": [
    "# Check all unique LearnCode\n",
    "ma_distinct_values(survey, 'LearnCode')"
   ]
  },
  {
   "cell_type": "code",
   "execution_count": 26,
   "id": "4d341de5",
   "metadata": {},
   "outputs": [],
   "source": [
    "# DS Learn Code\n",
    "ds_learncode = ma_values_percentage(ds, 'LearnCode', plot=False)\n",
    "ds_learncode = ds_learncode.reset_index()\n",
    "# Non DS Learn Code\n",
    "non_ds_learncode = ma_values_percentage(non_ds, 'LearnCode', plot=False)\n",
    "non_ds_learncode = non_ds_learncode.reset_index()"
   ]
  },
  {
   "cell_type": "code",
   "execution_count": 27,
   "id": "92d013d0",
   "metadata": {},
   "outputs": [
    {
     "data": {
      "text/html": [
       "<style  type=\"text/css\" >\n",
       "#T_05b1335c_9312_11ec_b7a3_94e979ef44f4row0_col3{\n",
       "            width:  10em;\n",
       "             height:  80%;\n",
       "            background:  linear-gradient(90deg, transparent 36.0%, #5fba7d 36.0%, #5fba7d 100.0%, transparent 100.0%);\n",
       "        }#T_05b1335c_9312_11ec_b7a3_94e979ef44f4row1_col3{\n",
       "            width:  10em;\n",
       "             height:  80%;\n",
       "            background:  linear-gradient(90deg, transparent 36.0%, #5fba7d 36.0%, #5fba7d 88.6%, transparent 88.6%);\n",
       "        }#T_05b1335c_9312_11ec_b7a3_94e979ef44f4row2_col3{\n",
       "            width:  10em;\n",
       "             height:  80%;\n",
       "            background:  linear-gradient(90deg,#d65f5f 36.0%, transparent 36.0%);\n",
       "        }#T_05b1335c_9312_11ec_b7a3_94e979ef44f4row3_col3{\n",
       "            width:  10em;\n",
       "             height:  80%;\n",
       "            background:  linear-gradient(90deg, transparent 36.0%, #5fba7d 36.0%, #5fba7d 70.3%, transparent 70.3%);\n",
       "        }#T_05b1335c_9312_11ec_b7a3_94e979ef44f4row4_col3{\n",
       "            width:  10em;\n",
       "             height:  80%;\n",
       "            background:  linear-gradient(90deg, transparent 36.0%, #5fba7d 36.0%, #5fba7d 51.5%, transparent 51.5%);\n",
       "        }#T_05b1335c_9312_11ec_b7a3_94e979ef44f4row5_col3{\n",
       "            width:  10em;\n",
       "             height:  80%;\n",
       "            background:  linear-gradient(90deg, transparent 36.0%, #5fba7d 36.0%, #5fba7d 61.2%, transparent 61.2%);\n",
       "        }#T_05b1335c_9312_11ec_b7a3_94e979ef44f4row6_col3{\n",
       "            width:  10em;\n",
       "             height:  80%;\n",
       "            background:  linear-gradient(90deg, transparent 36.0%, #5fba7d 36.0%, #5fba7d 68.0%, transparent 68.0%);\n",
       "        }#T_05b1335c_9312_11ec_b7a3_94e979ef44f4row7_col3{\n",
       "            width:  10em;\n",
       "             height:  80%;\n",
       "            background:  linear-gradient(90deg, transparent 36.0%, #5fba7d 36.0%, #5fba7d 39.0%, transparent 39.0%);\n",
       "        }#T_05b1335c_9312_11ec_b7a3_94e979ef44f4row8_col3{\n",
       "            width:  10em;\n",
       "             height:  80%;\n",
       "            background:  linear-gradient(90deg, transparent 36.0%, #5fba7d 36.0%, #5fba7d 54.2%, transparent 54.2%);\n",
       "        }</style><table id=\"T_05b1335c_9312_11ec_b7a3_94e979ef44f4\" ><thead>    <tr>        <th class=\"blank level0\" ></th>        <th class=\"col_heading level0 col0\" >LearnCode</th>        <th class=\"col_heading level0 col1\" >DS/ML</th>        <th class=\"col_heading level0 col2\" >Other Roles</th>        <th class=\"col_heading level0 col3\" >Diff</th>    </tr></thead><tbody>\n",
       "                <tr>\n",
       "                        <th id=\"T_05b1335c_9312_11ec_b7a3_94e979ef44f4level0_row0\" class=\"row_heading level0 row0\" >0</th>\n",
       "                        <td id=\"T_05b1335c_9312_11ec_b7a3_94e979ef44f4row0_col0\" class=\"data row0 col0\" >School</td>\n",
       "                        <td id=\"T_05b1335c_9312_11ec_b7a3_94e979ef44f4row0_col1\" class=\"data row0 col1\" >59.255792</td>\n",
       "                        <td id=\"T_05b1335c_9312_11ec_b7a3_94e979ef44f4row0_col2\" class=\"data row0 col2\" >52.964657</td>\n",
       "                        <td id=\"T_05b1335c_9312_11ec_b7a3_94e979ef44f4row0_col3\" class=\"data row0 col3\" >6.291136</td>\n",
       "            </tr>\n",
       "            <tr>\n",
       "                        <th id=\"T_05b1335c_9312_11ec_b7a3_94e979ef44f4level0_row1\" class=\"row_heading level0 row1\" >1</th>\n",
       "                        <td id=\"T_05b1335c_9312_11ec_b7a3_94e979ef44f4row1_col0\" class=\"data row1 col0\" >Books / Physical media</td>\n",
       "                        <td id=\"T_05b1335c_9312_11ec_b7a3_94e979ef44f4row1_col1\" class=\"data row1 col1\" >56.143225</td>\n",
       "                        <td id=\"T_05b1335c_9312_11ec_b7a3_94e979ef44f4row1_col2\" class=\"data row1 col2\" >50.972640</td>\n",
       "                        <td id=\"T_05b1335c_9312_11ec_b7a3_94e979ef44f4row1_col3\" class=\"data row1 col3\" >5.170585</td>\n",
       "            </tr>\n",
       "            <tr>\n",
       "                        <th id=\"T_05b1335c_9312_11ec_b7a3_94e979ef44f4level0_row2\" class=\"row_heading level0 row2\" >2</th>\n",
       "                        <td id=\"T_05b1335c_9312_11ec_b7a3_94e979ef44f4row2_col0\" class=\"data row2 col0\" >Other online resources (ex: videos, blogs, etc)</td>\n",
       "                        <td id=\"T_05b1335c_9312_11ec_b7a3_94e979ef44f4row2_col1\" class=\"data row2 col1\" >55.838989</td>\n",
       "                        <td id=\"T_05b1335c_9312_11ec_b7a3_94e979ef44f4row2_col2\" class=\"data row2 col2\" >59.376500</td>\n",
       "                        <td id=\"T_05b1335c_9312_11ec_b7a3_94e979ef44f4row2_col3\" class=\"data row2 col3\" >-3.537511</td>\n",
       "            </tr>\n",
       "            <tr>\n",
       "                        <th id=\"T_05b1335c_9312_11ec_b7a3_94e979ef44f4level0_row3\" class=\"row_heading level0 row3\" >3</th>\n",
       "                        <td id=\"T_05b1335c_9312_11ec_b7a3_94e979ef44f4row3_col0\" class=\"data row3 col0\" >Online Courses or Certification</td>\n",
       "                        <td id=\"T_05b1335c_9312_11ec_b7a3_94e979ef44f4row3_col1\" class=\"data row3 col1\" >43.365317</td>\n",
       "                        <td id=\"T_05b1335c_9312_11ec_b7a3_94e979ef44f4row3_col2\" class=\"data row3 col2\" >39.989389</td>\n",
       "                        <td id=\"T_05b1335c_9312_11ec_b7a3_94e979ef44f4row3_col3\" class=\"data row3 col3\" >3.375928</td>\n",
       "            </tr>\n",
       "            <tr>\n",
       "                        <th id=\"T_05b1335c_9312_11ec_b7a3_94e979ef44f4level0_row4\" class=\"row_heading level0 row4\" >4</th>\n",
       "                        <td id=\"T_05b1335c_9312_11ec_b7a3_94e979ef44f4row4_col0\" class=\"data row4 col0\" >Online Forum</td>\n",
       "                        <td id=\"T_05b1335c_9312_11ec_b7a3_94e979ef44f4row4_col1\" class=\"data row4 col1\" >32.880880</td>\n",
       "                        <td id=\"T_05b1335c_9312_11ec_b7a3_94e979ef44f4row4_col2\" class=\"data row4 col2\" >31.356896</td>\n",
       "                        <td id=\"T_05b1335c_9312_11ec_b7a3_94e979ef44f4row4_col3\" class=\"data row4 col3\" >1.523984</td>\n",
       "            </tr>\n",
       "            <tr>\n",
       "                        <th id=\"T_05b1335c_9312_11ec_b7a3_94e979ef44f4level0_row5\" class=\"row_heading level0 row5\" >5</th>\n",
       "                        <td id=\"T_05b1335c_9312_11ec_b7a3_94e979ef44f4row5_col0\" class=\"data row5 col0\" >Friend or family member</td>\n",
       "                        <td id=\"T_05b1335c_9312_11ec_b7a3_94e979ef44f4row5_col1\" class=\"data row5 col1\" >20.524222</td>\n",
       "                        <td id=\"T_05b1335c_9312_11ec_b7a3_94e979ef44f4row5_col2\" class=\"data row5 col2\" >18.044362</td>\n",
       "                        <td id=\"T_05b1335c_9312_11ec_b7a3_94e979ef44f4row5_col3\" class=\"data row5 col3\" >2.479859</td>\n",
       "            </tr>\n",
       "            <tr>\n",
       "                        <th id=\"T_05b1335c_9312_11ec_b7a3_94e979ef44f4level0_row6\" class=\"row_heading level0 row6\" >6</th>\n",
       "                        <td id=\"T_05b1335c_9312_11ec_b7a3_94e979ef44f4row6_col0\" class=\"data row6 col0\" >Colleague</td>\n",
       "                        <td id=\"T_05b1335c_9312_11ec_b7a3_94e979ef44f4row6_col1\" class=\"data row6 col1\" >20.032764</td>\n",
       "                        <td id=\"T_05b1335c_9312_11ec_b7a3_94e979ef44f4row6_col2\" class=\"data row6 col2\" >16.887300</td>\n",
       "                        <td id=\"T_05b1335c_9312_11ec_b7a3_94e979ef44f4row6_col3\" class=\"data row6 col3\" >3.145464</td>\n",
       "            </tr>\n",
       "            <tr>\n",
       "                        <th id=\"T_05b1335c_9312_11ec_b7a3_94e979ef44f4level0_row7\" class=\"row_heading level0 row7\" >7</th>\n",
       "                        <td id=\"T_05b1335c_9312_11ec_b7a3_94e979ef44f4row7_col0\" class=\"data row7 col0\" >Coding Bootcamp</td>\n",
       "                        <td id=\"T_05b1335c_9312_11ec_b7a3_94e979ef44f4row7_col1\" class=\"data row7 col1\" >10.461034</td>\n",
       "                        <td id=\"T_05b1335c_9312_11ec_b7a3_94e979ef44f4row7_col2\" class=\"data row7 col2\" >10.167244</td>\n",
       "                        <td id=\"T_05b1335c_9312_11ec_b7a3_94e979ef44f4row7_col3\" class=\"data row7 col3\" >0.293791</td>\n",
       "            </tr>\n",
       "            <tr>\n",
       "                        <th id=\"T_05b1335c_9312_11ec_b7a3_94e979ef44f4level0_row8\" class=\"row_heading level0 row8\" >8</th>\n",
       "                        <td id=\"T_05b1335c_9312_11ec_b7a3_94e979ef44f4row8_col0\" class=\"data row8 col0\" >Other (please specify):</td>\n",
       "                        <td id=\"T_05b1335c_9312_11ec_b7a3_94e979ef44f4row8_col1\" class=\"data row8 col1\" >9.992979</td>\n",
       "                        <td id=\"T_05b1335c_9312_11ec_b7a3_94e979ef44f4row8_col2\" class=\"data row8 col2\" >8.206806</td>\n",
       "                        <td id=\"T_05b1335c_9312_11ec_b7a3_94e979ef44f4row8_col3\" class=\"data row8 col3\" >1.786173</td>\n",
       "            </tr>\n",
       "    </tbody></table>"
      ],
      "text/plain": [
       "<pandas.io.formats.style.Styler at 0x1eda5f1ad30>"
      ]
     },
     "execution_count": 27,
     "metadata": {},
     "output_type": "execute_result"
    }
   ],
   "source": [
    "learncode = compare_groups('LearnCode', ds_learncode, 'DS/ML', non_ds_learncode, 'Other Roles')\n",
    "learncode"
   ]
  },
  {
   "cell_type": "markdown",
   "id": "b139f433",
   "metadata": {},
   "source": [
    "### Question 3: Which other roles are closely associated to Data Scientists/Machine Learning Specialists?"
   ]
  },
  {
   "cell_type": "code",
   "execution_count": 28,
   "id": "9a4e9fb2",
   "metadata": {},
   "outputs": [],
   "source": [
    "# Get rules\n",
    "rules = get_association_rules(survey, 'DevType')"
   ]
  },
  {
   "cell_type": "code",
   "execution_count": 29,
   "id": "3b0d568f",
   "metadata": {},
   "outputs": [],
   "source": [
    "# Filter \n",
    "rules['flag_DS'] = rules['antecedents'].apply(lambda x: True if \"['Data scientist or machine learning specialist']\" == str(list(x)) else False)\n",
    "rules = rules[rules['flag_DS']==True]\n",
    "rules['consequents'] = rules['consequents'].apply(lambda x: '; '.join(list(x)))\n",
    "rules = rules[['antecedents', 'consequents', 'lift']]"
   ]
  },
  {
   "cell_type": "code",
   "execution_count": 66,
   "id": "9ed9e72b",
   "metadata": {},
   "outputs": [
    {
     "data": {
      "text/html": [
       "<div>\n",
       "<style scoped>\n",
       "    .dataframe tbody tr th:only-of-type {\n",
       "        vertical-align: middle;\n",
       "    }\n",
       "\n",
       "    .dataframe tbody tr th {\n",
       "        vertical-align: top;\n",
       "    }\n",
       "\n",
       "    .dataframe thead th {\n",
       "        text-align: right;\n",
       "    }\n",
       "</style>\n",
       "<table border=\"1\" class=\"dataframe\">\n",
       "  <thead>\n",
       "    <tr style=\"text-align: right;\">\n",
       "      <th></th>\n",
       "      <th>antecedents</th>\n",
       "      <th>consequents</th>\n",
       "      <th>lift</th>\n",
       "    </tr>\n",
       "  </thead>\n",
       "  <tbody>\n",
       "    <tr>\n",
       "      <th>14</th>\n",
       "      <td>(Data scientist or machine learning specialist)</td>\n",
       "      <td>Scientist</td>\n",
       "      <td>7.878648</td>\n",
       "    </tr>\n",
       "    <tr>\n",
       "      <th>0</th>\n",
       "      <td>(Data scientist or machine learning specialist)</td>\n",
       "      <td>Academic researcher</td>\n",
       "      <td>6.136297</td>\n",
       "    </tr>\n",
       "    <tr>\n",
       "      <th>6</th>\n",
       "      <td>(Data scientist or machine learning specialist)</td>\n",
       "      <td>Data or business analyst</td>\n",
       "      <td>5.731431</td>\n",
       "    </tr>\n",
       "    <tr>\n",
       "      <th>30</th>\n",
       "      <td>(Data scientist or machine learning specialist)</td>\n",
       "      <td>Developer, back-end; Data or business analyst</td>\n",
       "      <td>5.261277</td>\n",
       "    </tr>\n",
       "    <tr>\n",
       "      <th>12</th>\n",
       "      <td>(Data scientist or machine learning specialist)</td>\n",
       "      <td>Engineer, data</td>\n",
       "      <td>5.204402</td>\n",
       "    </tr>\n",
       "  </tbody>\n",
       "</table>\n",
       "</div>"
      ],
      "text/plain": [
       "                                        antecedents  \\\n",
       "14  (Data scientist or machine learning specialist)   \n",
       "0   (Data scientist or machine learning specialist)   \n",
       "6   (Data scientist or machine learning specialist)   \n",
       "30  (Data scientist or machine learning specialist)   \n",
       "12  (Data scientist or machine learning specialist)   \n",
       "\n",
       "                                      consequents      lift  \n",
       "14                                      Scientist  7.878648  \n",
       "0                             Academic researcher  6.136297  \n",
       "6                        Data or business analyst  5.731431  \n",
       "30  Developer, back-end; Data or business analyst  5.261277  \n",
       "12                                 Engineer, data  5.204402  "
      ]
     },
     "execution_count": 66,
     "metadata": {},
     "output_type": "execute_result"
    }
   ],
   "source": [
    "rules"
   ]
  },
  {
   "cell_type": "code",
   "execution_count": 97,
   "id": "313452af",
   "metadata": {},
   "outputs": [
    {
     "data": {
      "image/png": "[encoded data removed]",
      "text/plain": [
       "<Figure size 1008x576 with 1 Axes>"
      ]
     },
     "metadata": {
      "needs_background": "light"
     },
     "output_type": "display_data"
    }
   ],
   "source": [
    "# Visualize\n",
    "plt.figure(figsize=(14, 8))\n",
    "sns.barplot(data=rules, x='consequents', y='lift')\n",
    "plt.xticks(fontsize=10)\n",
    "plt.xlabel('Roles', fontsize=12)\n",
    "plt.ylabel('Lift', fontsize=12)\n",
    "plt.tight_layout()\n",
    "plt.title(\"Roles that are closely associated to Data Scientists/ Machine Learning Specialists\")\n",
    "plt.show()"
   ]
  },
  {
   "cell_type": "markdown",
   "id": "99e7ef47",
   "metadata": {},
   "source": [
    "### Question 4: Which programming languages and libraries are DS / ML specialists using most commonly nowadays?"
   ]
  },
  {
   "cell_type": "code",
   "execution_count": 38,
   "id": "d4354e09",
   "metadata": {},
   "outputs": [
    {
     "data": {
      "image/png": "[encoded data removed]",
      "text/plain": [
       "<Figure size 864x576 with 1 Axes>"
      ]
     },
     "metadata": {
      "needs_background": "light"
     },
     "output_type": "display_data"
    }
   ],
   "source": [
    "# DS Programming Language\n",
    "ds_programming = ma_values_percentage(ds, 'LanguageHaveWorkedWith', top=5, \n",
    "                                      title='Top 5 programming languages DS/AI Specialists are using')"
   ]
  },
  {
   "cell_type": "code",
   "execution_count": 40,
   "id": "d1286cf7",
   "metadata": {},
   "outputs": [
    {
     "data": {
      "image/png": "[encoded data removed]",
      "text/plain": [
       "<Figure size 864x576 with 1 Axes>"
      ]
     },
     "metadata": {
      "needs_background": "light"
     },
     "output_type": "display_data"
    }
   ],
   "source": [
    "# DS Misc Tech\n",
    "ds_mistech = ma_values_percentage(ds, 'MiscTechHaveWorkedWith', top=5, \n",
    "                                  title='Top 5 Misc Tech DS/AI Specialists are using',\n",
    "                                  color='rainbow')"
   ]
  }
 ],
 "metadata": {
  "kernelspec": {
   "display_name": "Python 3",
   "language": "python",
   "name": "python3"
  },
  "language_info": {
   "codemirror_mode": {
    "name": "ipython",
    "version": 3
   },
   "file_extension": ".py",
   "mimetype": "text/x-python",
   "name": "python",
   "nbconvert_exporter": "python",
   "pygments_lexer": "ipython3",
   "version": "3.9.1"
  }
 },
 "nbformat": 4,
 "nbformat_minor": 5
}
